{
 "cells": [
  {
   "cell_type": "code",
   "execution_count": 20,
   "metadata": {},
   "outputs": [
    {
     "name": "stdout",
     "output_type": "stream",
     "text": [
      "Using matplotlib backend: TkAgg\n"
     ]
    }
   ],
   "source": [
    "%matplotlib\n",
    "import scipy\n",
    "import matplotlib.pyplot as plt\n",
    "import numpy as np\n",
    "# plt.ioff()\n",
    "# plt.ion()\n"
   ]
  },
  {
   "cell_type": "code",
   "execution_count": 21,
   "metadata": {},
   "outputs": [],
   "source": [
    "mat = scipy.io.loadmat('helpers/data/NMR_40wines.mat')\n",
    "#Get X and Labels. Probably different for the other dataset, but i didn't check :)\n",
    "X = mat.get('X')\n",
    "Y = mat.get('Y')\n",
    "#ppm is the scale of the x-axis.\n",
    "ppm = mat.get('ppm')\n",
    "\n",
    "labels = mat.get('Label')\n",
    "#40 wines times 8712 length spectrum\n",
    "N, M = X.shape\n",
    "#try to uncover mixings\n",
    "label = [x[0] for x in labels[0]]\n",
    "\n",
    "plt.figure(figsize=(15,8))\n",
    "plt.imshow(Y)\n",
    "plt.colorbar()\n",
    "plt.title(\"The true mixings\")\n",
    "\n",
    "# Add xticks on the middle of the group bars\n",
    "plt.xticks(range(len(label)), label, rotation=45,ha=\"right\")\n",
    "plt.tick_params(axis='x', which='major', labelsize=8)\n",
    "plt.show()\n",
    "\n",
    "\n",
    "\n"
   ]
  },
  {
   "cell_type": "code",
   "execution_count": 19,
   "metadata": {},
   "outputs": [
    {
     "name": "stdout",
     "output_type": "stream",
     "text": [
      "epoch: 500, Loss: 0.019887394040402344, Tau: 163.07360301409912\r"
     ]
    }
   ],
   "source": [
    "import scipy.io\n",
    "import numpy as np\n",
    "import pandas as pd\n",
    "from shiftNMF_frozen import ShiftNMF\n",
    "\n",
    "alpha = 1e-5\n",
    "nmf = ShiftNMF(X, 2, lr=0.1, alpha = alpha, factor=1, patience=10)\n",
    "W, H, tau = nmf.fit(verbose=True, max_iter=500)\n",
    "\n",
    "plt.figure()\n",
    "plt.plot(H.T)\n",
    "plt.title(\"H - the latent variables\")\n",
    "plt.show()\n",
    "\n",
    "\n",
    "plt.figure()\n",
    "plt.imshow(W)\n",
    "plt.colorbar()\n",
    "plt.title(\"W - The mixings\")\n",
    "plt.show()\n",
    "\n",
    "plt.figure()\n",
    "plt.imshow(tau.real)\n",
    "plt.colorbar()\n",
    "plt.title(\"Tau\")\n",
    "plt.show()"
   ]
  }
 ],
 "metadata": {
  "kernelspec": {
   "display_name": "BC",
   "language": "python",
   "name": "python3"
  },
  "language_info": {
   "codemirror_mode": {
    "name": "ipython",
    "version": 3
   },
   "file_extension": ".py",
   "mimetype": "text/x-python",
   "name": "python",
   "nbconvert_exporter": "python",
   "pygments_lexer": "ipython3",
   "version": "3.10.14"
  }
 },
 "nbformat": 4,
 "nbformat_minor": 2
}
