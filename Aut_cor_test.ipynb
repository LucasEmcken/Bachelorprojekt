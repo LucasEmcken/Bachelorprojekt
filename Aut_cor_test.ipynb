{
 "cells": [
  {
   "cell_type": "code",
   "execution_count": 4,
   "metadata": {},
   "outputs": [],
   "source": [
    "import numpy as np\n",
    "import matplotlib.pyplot as plt\n",
    "# from torchAA import torchAA\n",
    "# from torchNMF import NMF\n",
    "#from estTimeAutCor import estTimeAutCor\n",
    "from TimeCor import estT\n",
    "#import pandas as pd\n",
    "def shift_dataset(W, H, tau):\n",
    "    # Get half the frequencies\n",
    "    Nf = H.shape[1] // 2 + 1\n",
    "    # Fourier transform of S along the second dimension\n",
    "    Hf = np.fft.fft(H, axis=1)\n",
    "    # Keep only the first Nf[1] elements of the Fourier transform of S\n",
    "    Hf = Hf[:, :Nf]\n",
    "    # Construct the shifted Fourier transform of S\n",
    "    Hf_reverse = np.fliplr(Hf[:, 1:Nf - 1])\n",
    "    # Concatenate the original columns with the reversed columns along the second dimension\n",
    "    Hft = np.concatenate((Hf, np.conj(Hf_reverse)), axis=1)\n",
    "    f = np.arange(0, M) / M\n",
    "    omega = np.exp(-1j * 2 * np.pi * np.einsum('Nd,M->NdM', tau, f))\n",
    "    Wf = np.einsum('Nd,NdM->NdM', W, omega)\n",
    "    # Broadcast Wf and H together\n",
    "    Vf = np.einsum('NdM,dM->NM', Wf, Hft)\n",
    "    V = np.fft.ifft(Vf)\n",
    "    return V\n",
    "def generateTauWMatrix(TauW, N2):\n",
    "    TauWMatrix = np.zeros((TauW.shape[0], N2))\n",
    "\n",
    "    for d in range(TauW.shape[0]):\n",
    "        TauWMatrix[d, 0:int(TauW[d, 1])] = 1\n",
    "        TauWMatrix[d, N2+int(TauW[d, 0]):N2] = 1\n",
    "\n",
    "    return TauWMatrix"
   ]
  },
  {
   "cell_type": "code",
   "execution_count": 5,
   "metadata": {},
   "outputs": [],
   "source": [
    "N, M, d = 5, 10000, 3\n",
    "Fs = 1000  # The sampling frequency we use for the simulation\n",
    "t0 = 10    # The half-time interval we look at\n",
    "t = np.arange(-t0, t0, 1/Fs)  # the time samples\n",
    "f = np.arange(-Fs/2, Fs/2, Fs/len(t))  # the corresponding frequency samples\n",
    "\n",
    "def gauss(mu, s, time):\n",
    "    return 1/(s*np.sqrt(2*np.pi))*np.exp(-1/2*((time-mu)/s)**2)\n",
    "\n",
    "W = np.random.dirichlet(np.ones(d), N)\n",
    "\n",
    "shift = 400\n",
    "# Random gaussian shifts\n",
    "tau = np.random.randint(-shift, shift, size=(N, d))\n",
    "\n",
    "mean = [100, 400, 800]\n",
    "std = [10, 20, 7]\n",
    "t = np.arange(0, 10000, 1)\n",
    "\n",
    "H = np.array([gauss(m, s, t) for m, s in list(zip(mean, std))])\n",
    "\n",
    "X = shift_dataset(W, H, tau)\n"
   ]
  },
  {
   "cell_type": "code",
   "execution_count": 6,
   "metadata": {},
   "outputs": [
    {
     "data": {
      "image/png": "[encoded data removed]",
      "text/plain": [
       "<Figure size 640x480 with 2 Axes>"
      ]
     },
     "metadata": {},
     "output_type": "display_data"
    }
   ],
   "source": [
    "plt.imshow(tau)\n",
    "plt.colorbar()\n",
    "plt.show()"
   ]
  },
  {
   "cell_type": "code",
   "execution_count": 8,
   "metadata": {},
   "outputs": [
    {
     "data": {
      "image/png": "[encoded data removed]",
      "text/plain": [
       "<Figure size 640x480 with 2 Axes>"
      ]
     },
     "metadata": {},
     "output_type": "display_data"
    }
   ],
   "source": [
    "Xf = np.fft.fft(X)\n",
    "A = W\n",
    "Sf = np.fft.fft(H)\n",
    "krSf = np.conj(Sf)\n",
    "krf = np.arange(0, X.shape[1]) / X.shape[1]\n",
    "Nf = X.shape\n",
    "N = X.shape\n",
    "T = np.zeros((N[0],3))\n",
    "w = np.ones(X.shape[1])\n",
    "TauW = np.ones((3, 1))*np.array([-2000,2000])\n",
    "TauWMatrix = generateTauWMatrix(TauW, N[1])\n",
    "# plt.plot(TauWMatrix.T)\n",
    "# plt.show()\n",
    "\n",
    "SST = np.sum(X**2)\n",
    "sigma_sq = SST / (11*np.prod(N) -X.shape[0]*X.shape[1])\n",
    "Lambda = np.ones(3)*sigma_sq\n",
    "T = estT(X,W,H)\n",
    "plt.imshow(T)\n",
    "plt.colorbar()\n",
    "plt.show()"
   ]
  }
 ],
 "metadata": {
  "kernelspec": {
   "display_name": "BC",
   "language": "python",
   "name": "python3"
  },
  "language_info": {
   "codemirror_mode": {
    "name": "ipython",
    "version": 3
   },
   "file_extension": ".py",
   "mimetype": "text/x-python",
   "name": "python",
   "nbconvert_exporter": "python",
   "pygments_lexer": "ipython3",
   "version": "3.10.14"
  }
 },
 "nbformat": 4,
 "nbformat_minor": 2
}
