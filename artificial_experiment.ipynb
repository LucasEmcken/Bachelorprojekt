{
 "cells": [
  {
   "cell_type": "code",
   "execution_count": 2,
   "metadata": {},
   "outputs": [],
   "source": [
    "from shiftNMF_frozen import ShiftNMF\n",
    "from nnls_l1 import nnls\n",
    "import numpy as np\n",
    "import pandas as pd\n",
    "import matplotlib.pyplot as plt\n",
    "import matplotlib.gridspec as gridspec\n",
    "from helpers.generators import *\n",
    "from helpers.data import X_ART, X_ART_NOISY, TAU_ART, W_ART, H_ART\n",
    "from Hardmodel_single_peaks import Single_Model\n",
    "from Hardmodel import Hard_Model\n",
    "import scipy\n",
    "from scipy.signal import find_peaks\n",
    "import itertools"
   ]
  },
  {
   "cell_type": "markdown",
   "metadata": {},
   "source": [
    "# shiftNMF"
   ]
  },
  {
   "cell_type": "code",
   "execution_count": 7,
   "metadata": {},
   "outputs": [
    {
     "name": "stdout",
     "output_type": "stream",
     "text": [
      "epoch: 374, Loss: 0.017617881890182072, Tau: 7954.7087941671385\r"
     ]
    }
   ],
   "source": [
    "\n",
    "nmf = ShiftNMF(X_ART, 5, lr=0.1, alpha=1e-6, patience=1000, min_imp=0)\n",
    "W_est, H_est, tau_est = nmf.fit(verbose=1, max_iter=500, tau_iter=0, Lambda=0.000001)\n",
    "\n",
    "plt.plot(H_est.T)\n",
    "plt.show()\n"
   ]
  },
  {
   "cell_type": "code",
   "execution_count": null,
   "metadata": {},
   "outputs": [],
   "source": [
    "plt.imshow(W_est, aspect='auto', interpolation=\"none\")\n",
    "plt.colorbar(im, ax=axs[1, 0])\n",
    "plt.show()"
   ]
  },
  {
   "cell_type": "markdown",
   "metadata": {},
   "source": [
    "# Hardmodel"
   ]
  },
  {
   "cell_type": "code",
   "execution_count": null,
   "metadata": {},
   "outputs": [],
   "source": []
  },
  {
   "cell_type": "code",
   "execution_count": 4,
   "metadata": {},
   "outputs": [],
   "source": [
    "def single_fit(X):\n",
    "        alpha = 1e-7\n",
    "        #find peaks in the sample\n",
    "        #peaks = find_peaks_cwt(X, widths=[100, 300])\n",
    "        peaks = find_peaks(X, height=1e-8)[0]\n",
    "        \n",
    "\n",
    "        sigmas = scipy.signal.peak_widths(X, peaks, wlen=1000)[0]/2 #.355*1.5\n",
    "        select = [prom>10 for prom in sigmas]\n",
    "        select = [i for i, x in enumerate(select) if x == False]\n",
    "        sigmas = np.delete(sigmas, select)\n",
    "        peaks = np.delete(np.array(peaks), select)\n",
    "        print(\"initial means:\")\n",
    "        print(peaks)\n",
    "        print(\"initial sigmas:\")\n",
    "        print(sigmas)\n",
    "        # peaks,_  = find_peaks(X)\n",
    "        print(\"Found peaks:\"+str(peaks))\n",
    "        model = Single_Model(X, peaks, sigmas, lr=5, alpha = alpha, factor=1, patience=1, min_imp=0.001) # min_imp=1e-3)\n",
    "        W, C = model.fit(verbose=True)\n",
    "\n",
    "        mean = model.means.detach().numpy()\n",
    "        sigmas = model.sigma.detach().numpy()\n",
    "        n = model.N.detach().numpy()\n",
    "\n",
    "        return mean, sigmas, n\n",
    "\n",
    "def calc_sigma_matrix(nr_runs=10):\n",
    "    mean, sigmas = single_fit(X)\n",
    "    sigma_matrix = np.array([sigmas])\n",
    "    for i in range(nr_runs-1):\n",
    "        means, sigmas = single_fit(X)\n",
    "        sigma_matrix = np.append(sigma_matrix, [sigmas], axis=0)\n",
    "    return sigma_matrix\n",
    "    \n",
    "def calc_difference_matrix(sigmas):\n",
    "    diff_matrix = np.zeros((len(sigmas),len(sigmas)))\n",
    "    for i in range(len(sigmas)):\n",
    "        for j in range(len(sigmas)):\n",
    "            diff_matrix[i,j] = abs(sigmas[i]-sigmas[j])/sigmas[i]\n",
    "    return diff_matrix\n",
    "\n",
    "def peak_hypothesis(value_matrix, cutoff= 5/100):\n",
    "    H = set()\n",
    "    for i,peaks in enumerate(value_matrix):\n",
    "        peaks = peaks.tolist()\n",
    "        valid_peaks = set()\n",
    "        for peak_index, peak in enumerate(peaks):\n",
    "            if peak < cutoff:\n",
    "                valid_peaks.add(peak_index)\n",
    "        for combination_length in range(1,len(valid_peaks)+1):\n",
    "            for h in itertools.combinations(valid_peaks, combination_length):\n",
    "                H.add(tuple(sorted(h)))\n",
    "    return H"
   ]
  }
 ],
 "metadata": {
  "kernelspec": {
   "display_name": "BC",
   "language": "python",
   "name": "python3"
  },
  "language_info": {
   "codemirror_mode": {
    "name": "ipython",
    "version": 3
   },
   "file_extension": ".py",
   "mimetype": "text/x-python",
   "name": "python",
   "nbconvert_exporter": "python",
   "pygments_lexer": "ipython3",
   "version": "3.12.3"
  }
 },
 "nbformat": 4,
 "nbformat_minor": 2
}
